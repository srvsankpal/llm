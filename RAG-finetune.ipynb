{
 "cells": [
  {
   "cell_type": "code",
   "execution_count": 1,
   "metadata": {},
   "outputs": [],
   "source": [
    "import os\n",
    "from dotenv import load_dotenv\n",
    "from langchain_community.document_loaders import Docx2txtLoader\n",
    "from langchain_community.document_loaders import TextLoader\n",
    "from langchain_community.document_loaders import PyPDFLoader\n",
    "from langchain.text_splitter import RecursiveCharacterTextSplitter\n",
    "from langchain_community.vectorstores import faiss\n",
    "from langchain_openai import OpenAI, OpenAIEmbeddings\n",
    "from langchain.chains import RetrievalQAWithSourcesChain"
   ]
  },
  {
   "cell_type": "code",
   "execution_count": 2,
   "metadata": {},
   "outputs": [
    {
     "data": {
      "text/plain": [
       "True"
      ]
     },
     "execution_count": 2,
     "metadata": {},
     "output_type": "execute_result"
    }
   ],
   "source": [
    "load_dotenv()"
   ]
  },
  {
   "cell_type": "code",
   "execution_count": 3,
   "metadata": {},
   "outputs": [],
   "source": [
    "loader = PyPDFLoader(\"./data/resume-sample-engineering.pdf\")"
   ]
  },
  {
   "cell_type": "code",
   "execution_count": 4,
   "metadata": {},
   "outputs": [],
   "source": [
    "pages = loader.load()\n",
    "for i in range(len(pages)):\n",
    "    pages[i].metadata[\"county\"]=\"San Francisco\""
   ]
  },
  {
   "cell_type": "code",
   "execution_count": 5,
   "metadata": {},
   "outputs": [
    {
     "data": {
      "text/plain": [
       "Document(page_content='SALLIE N. GINEER  \\nsengineer@buffalo.edu, 716 -123-4567 , linkedin.com/in/salliengineer  \\n \\nEDUCATION   \\nBachelor of Science, Mechanical Engineering and Aerospace Engineering  (Double Major), May 20 XX \\nUniversity at Buffalo, T he State University of New York  \\n• Honors: Dean’s List , GPA: 3.2/4.0  \\n \\nENGINEERING WORK EXPERIENCE  \\nEngineering Intern, FS -Elliott, Export, PA , May 20 XX - August 20 XX  \\nProject: Motor Vibration Isolation System  \\n• Identif ied critical design requirements and range of  solutions for a group project  utilizing  QFD tools .  \\n• Developed Tuned Vibration Neutralizer effective for motors of various sizes and operating frequencies.  \\n• Optimize d design parameters  using MatL ab, Simulink and Excel to  run simulations.  \\n• Built a scaled prototype with a team of 3 and reduced motor vibrations by more than 99%.  \\n• Managed group meetings as team leader and monitored quality of work delivered by each member.  \\n \\nENGINEERING PROJECTS  \\nModification of a Box Fan Design Using Creo Parametric, Fall 20 XX  \\n• Proposed modification of Box Fan by adding multiple foldable legs with caster  wheels for enhanced \\nmaneuverability and a bracket for holding legs.  \\n• Performed Finite Element Analysis (FEA)  during 5 tests  to measure  stress -strain behavior of bracket s.   \\n• Created bill of materials (BOM)  for all raw materials  and produced  cost analysis for 40 parts.   \\n• Designed 10 parts of the Box Fan using Creo Parametric to sketch a final assembly drawing.  \\n \\nUB NanoSat Power Subsystem Team, Fall 20 XX - Spring 20 XX  \\n• Researched and tested power board system s to provide  controlled power to other subsystems of \\nstudent designed cube -satellite s, GLADOS, based on energy inpu t from other solar panels.  \\n• Verified power board worked as required using a controlled power supply sour ce to ensure reliable \\nexternal voltage  equaled  12 volts.   \\n• Ran tests on panels and board to ensure proper functioning inside a vacuum facility with natural sun \\nradiation within a Clean Room.  \\n \\nTECHNICAL SKILLS  \\nComputer Skills: Windows OS, Linus OS, Microsoft Excel  \\nProgramming Languages: MatLab/Simulink, Knowledge of C++  \\nDrafting Programs: AutoCAD, Cr eo/Creo Parametric, ProEngineer  \\n \\nADDITIONAL WORK HISTORY   \\nShift Manager, McDonalds, Amherst, NY, August 2 0XX - January 20 XX  \\n• Trained 1 new employee every month on how to interact with customers and take orders in a \\nprofessional and courteous manner.   \\n• Resolved  customer concerns by listening and  identifying root issue and implementing best resolution \\npossible at least 10 different occasions.  \\n \\nLEADERSHIP EXPERIENCE AND ACTIVITIES  \\nPresident, Society of Women Engineers (SWE) , August 20 XX - present  \\nMember, Theta Tau ( Professional Engineering Fraternity ), September 20 XX - present  ', metadata={'source': './data/resume-sample-engineering.pdf', 'page': 0, 'county': 'San Francisco'})"
      ]
     },
     "execution_count": 5,
     "metadata": {},
     "output_type": "execute_result"
    }
   ],
   "source": [
    "pages[0]"
   ]
  },
  {
   "cell_type": "code",
   "execution_count": 6,
   "metadata": {},
   "outputs": [],
   "source": [
    "documents = []\n",
    "documents.extend(pages)"
   ]
  },
  {
   "cell_type": "code",
   "execution_count": 7,
   "metadata": {},
   "outputs": [
    {
     "data": {
      "text/plain": [
       "[Document(page_content='SALLIE N. GINEER  \\nsengineer@buffalo.edu, 716 -123-4567 , linkedin.com/in/salliengineer  \\n \\nEDUCATION   \\nBachelor of Science, Mechanical Engineering and Aerospace Engineering  (Double Major), May 20 XX \\nUniversity at Buffalo, T he State University of New York  \\n• Honors: Dean’s List , GPA: 3.2/4.0  \\n \\nENGINEERING WORK EXPERIENCE  \\nEngineering Intern, FS -Elliott, Export, PA , May 20 XX - August 20 XX  \\nProject: Motor Vibration Isolation System  \\n• Identif ied critical design requirements and range of  solutions for a group project  utilizing  QFD tools .  \\n• Developed Tuned Vibration Neutralizer effective for motors of various sizes and operating frequencies.  \\n• Optimize d design parameters  using MatL ab, Simulink and Excel to  run simulations.  \\n• Built a scaled prototype with a team of 3 and reduced motor vibrations by more than 99%.  \\n• Managed group meetings as team leader and monitored quality of work delivered by each member.  \\n \\nENGINEERING PROJECTS  \\nModification of a Box Fan Design Using Creo Parametric, Fall 20 XX  \\n• Proposed modification of Box Fan by adding multiple foldable legs with caster  wheels for enhanced \\nmaneuverability and a bracket for holding legs.  \\n• Performed Finite Element Analysis (FEA)  during 5 tests  to measure  stress -strain behavior of bracket s.   \\n• Created bill of materials (BOM)  for all raw materials  and produced  cost analysis for 40 parts.   \\n• Designed 10 parts of the Box Fan using Creo Parametric to sketch a final assembly drawing.  \\n \\nUB NanoSat Power Subsystem Team, Fall 20 XX - Spring 20 XX  \\n• Researched and tested power board system s to provide  controlled power to other subsystems of \\nstudent designed cube -satellite s, GLADOS, based on energy inpu t from other solar panels.  \\n• Verified power board worked as required using a controlled power supply sour ce to ensure reliable \\nexternal voltage  equaled  12 volts.   \\n• Ran tests on panels and board to ensure proper functioning inside a vacuum facility with natural sun \\nradiation within a Clean Room.  \\n \\nTECHNICAL SKILLS  \\nComputer Skills: Windows OS, Linus OS, Microsoft Excel  \\nProgramming Languages: MatLab/Simulink, Knowledge of C++  \\nDrafting Programs: AutoCAD, Cr eo/Creo Parametric, ProEngineer  \\n \\nADDITIONAL WORK HISTORY   \\nShift Manager, McDonalds, Amherst, NY, August 2 0XX - January 20 XX  \\n• Trained 1 new employee every month on how to interact with customers and take orders in a \\nprofessional and courteous manner.   \\n• Resolved  customer concerns by listening and  identifying root issue and implementing best resolution \\npossible at least 10 different occasions.  \\n \\nLEADERSHIP EXPERIENCE AND ACTIVITIES  \\nPresident, Society of Women Engineers (SWE) , August 20 XX - present  \\nMember, Theta Tau ( Professional Engineering Fraternity ), September 20 XX - present  ', metadata={'source': './data/resume-sample-engineering.pdf', 'page': 0, 'county': 'San Francisco'})]"
      ]
     },
     "execution_count": 7,
     "metadata": {},
     "output_type": "execute_result"
    }
   ],
   "source": [
    "documents"
   ]
  },
  {
   "cell_type": "markdown",
   "metadata": {},
   "source": [
    "# Parent Document Retriever w/o filter"
   ]
  },
  {
   "cell_type": "code",
   "execution_count": 11,
   "metadata": {},
   "outputs": [],
   "source": [
    "from langchain.retrievers import ParentDocumentRetriever\n",
    "from langchain.storage import InMemoryStore\n",
    "from langchain.vectorstores import Chroma"
   ]
  },
  {
   "cell_type": "code",
   "execution_count": 12,
   "metadata": {},
   "outputs": [],
   "source": [
    "child_splitter = RecursiveCharacterTextSplitter(chunk_size=500, chunk_overlap=100)\n",
    "parent_splitter = RecursiveCharacterTextSplitter(chunk_size=1500, chunk_overlap=100)"
   ]
  },
  {
   "cell_type": "code",
   "execution_count": 13,
   "metadata": {},
   "outputs": [],
   "source": [
    "embedding = OpenAIEmbeddings(model=\"text-embedding-3-large\")\n",
    "vectorstore_wo_filter = Chroma(\n",
    "    collection_name=\"docs\", embedding_function=embedding\n",
    ")"
   ]
  },
  {
   "cell_type": "code",
   "execution_count": 22,
   "metadata": {},
   "outputs": [],
   "source": [
    "from langchain.storage._lc_store import create_kv_docstore\n",
    "from langchain.storage import LocalFileStore\n",
    "\n",
    "fs_wo_filter = LocalFileStore(\"./store_location_wo_filter\")\n",
    "store_wo_filter = create_kv_docstore(fs_wo_filter)\n",
    "retriever_wo_filter = ParentDocumentRetriever(\n",
    "    vectorstore=vectorstore_wo_filter,\n",
    "    docstore=store_wo_filter,\n",
    "    child_splitter=child_splitter,\n",
    "    parent_splitter=parent_splitter\n",
    ")"
   ]
  },
  {
   "cell_type": "code",
   "execution_count": 23,
   "metadata": {},
   "outputs": [],
   "source": [
    "retriever_wo_filter.add_documents(documents, ids=None)"
   ]
  },
  {
   "cell_type": "code",
   "execution_count": 24,
   "metadata": {},
   "outputs": [],
   "source": [
    "vectorstore_wo_filter.persist()"
   ]
  },
  {
   "cell_type": "code",
   "execution_count": 25,
   "metadata": {},
   "outputs": [
    {
     "data": {
      "text/plain": [
       "[Document(page_content='SALLIE N. GINEER  \\nsengineer@buffalo.edu, 716 -123-4567 , linkedin.com/in/salliengineer  \\n \\nEDUCATION   \\nBachelor of Science, Mechanical Engineering and Aerospace Engineering  (Double Major), May 20 XX \\nUniversity at Buffalo, T he State University of New York  \\n• Honors: Dean’s List , GPA: 3.2/4.0  \\n \\nENGINEERING WORK EXPERIENCE  \\nEngineering Intern, FS -Elliott, Export, PA , May 20 XX - August 20 XX  \\nProject: Motor Vibration Isolation System', metadata={'county': 'San Francisco', 'doc_id': 'f98e7b62-592b-4157-9dff-4f84df38fb86', 'page': 0, 'source': './data/resume-sample-engineering.pdf'}),\n",
       " Document(page_content='SALLIE N. GINEER  \\nsengineer@buffalo.edu, 716 -123-4567 , linkedin.com/in/salliengineer  \\n \\nEDUCATION   \\nBachelor of Science, Mechanical Engineering and Aerospace Engineering  (Double Major), May 20 XX \\nUniversity at Buffalo, T he State University of New York  \\n• Honors: Dean’s List , GPA: 3.2/4.0  \\n \\nENGINEERING WORK EXPERIENCE  \\nEngineering Intern, FS -Elliott, Export, PA , May 20 XX - August 20 XX  \\nProject: Motor Vibration Isolation System', metadata={'county': 'San Francisco', 'doc_id': '75fa8914-e882-4dae-be48-2f728d271a51', 'page': 0, 'source': './data/resume-sample-engineering.pdf'}),\n",
       " Document(page_content='ADDITIONAL WORK HISTORY   \\nShift Manager, McDonalds, Amherst, NY, August 2 0XX - January 20 XX  \\n• Trained 1 new employee every month on how to interact with customers and take orders in a \\nprofessional and courteous manner.   \\n• Resolved  customer concerns by listening and  identifying root issue and implementing best resolution \\npossible at least 10 different occasions.  \\n \\nLEADERSHIP EXPERIENCE AND ACTIVITIES  \\nPresident, Society of Women Engineers (SWE) , August 20 XX - present', metadata={'county': 'San Francisco', 'doc_id': '9676a484-8fa9-40aa-8f61-51b0c2808fb2', 'page': 0, 'source': './data/resume-sample-engineering.pdf'})]"
      ]
     },
     "execution_count": 25,
     "metadata": {},
     "output_type": "execute_result"
    }
   ],
   "source": [
    "vectorstore_wo_filter.similarity_search(query=\"where did sallie interned?\", k=3)"
   ]
  },
  {
   "cell_type": "code",
   "execution_count": 26,
   "metadata": {},
   "outputs": [
    {
     "data": {
      "text/plain": [
       "[Document(page_content='SALLIE N. GINEER  \\nsengineer@buffalo.edu, 716 -123-4567 , linkedin.com/in/salliengineer  \\n \\nEDUCATION   \\nBachelor of Science, Mechanical Engineering and Aerospace Engineering  (Double Major), May 20 XX \\nUniversity at Buffalo, T he State University of New York  \\n• Honors: Dean’s List , GPA: 3.2/4.0  \\n \\nENGINEERING WORK EXPERIENCE  \\nEngineering Intern, FS -Elliott, Export, PA , May 20 XX - August 20 XX  \\nProject: Motor Vibration Isolation System  \\n• Identif ied critical design requirements and range of  solutions for a group project  utilizing  QFD tools .  \\n• Developed Tuned Vibration Neutralizer effective for motors of various sizes and operating frequencies.  \\n• Optimize d design parameters  using MatL ab, Simulink and Excel to  run simulations.  \\n• Built a scaled prototype with a team of 3 and reduced motor vibrations by more than 99%.  \\n• Managed group meetings as team leader and monitored quality of work delivered by each member.  \\n \\nENGINEERING PROJECTS  \\nModification of a Box Fan Design Using Creo Parametric, Fall 20 XX  \\n• Proposed modification of Box Fan by adding multiple foldable legs with caster  wheels for enhanced \\nmaneuverability and a bracket for holding legs.  \\n• Performed Finite Element Analysis (FEA)  during 5 tests  to measure  stress -strain behavior of bracket s.   \\n• Created bill of materials (BOM)  for all raw materials  and produced  cost analysis for 40 parts.', metadata={'source': './data/resume-sample-engineering.pdf', 'page': 0, 'county': 'San Francisco'}),\n",
       " Document(page_content='• Designed 10 parts of the Box Fan using Creo Parametric to sketch a final assembly drawing.  \\n \\nUB NanoSat Power Subsystem Team, Fall 20 XX - Spring 20 XX  \\n• Researched and tested power board system s to provide  controlled power to other subsystems of \\nstudent designed cube -satellite s, GLADOS, based on energy inpu t from other solar panels.  \\n• Verified power board worked as required using a controlled power supply sour ce to ensure reliable \\nexternal voltage  equaled  12 volts.   \\n• Ran tests on panels and board to ensure proper functioning inside a vacuum facility with natural sun \\nradiation within a Clean Room.  \\n \\nTECHNICAL SKILLS  \\nComputer Skills: Windows OS, Linus OS, Microsoft Excel  \\nProgramming Languages: MatLab/Simulink, Knowledge of C++  \\nDrafting Programs: AutoCAD, Cr eo/Creo Parametric, ProEngineer  \\n \\nADDITIONAL WORK HISTORY   \\nShift Manager, McDonalds, Amherst, NY, August 2 0XX - January 20 XX  \\n• Trained 1 new employee every month on how to interact with customers and take orders in a \\nprofessional and courteous manner.   \\n• Resolved  customer concerns by listening and  identifying root issue and implementing best resolution \\npossible at least 10 different occasions.  \\n \\nLEADERSHIP EXPERIENCE AND ACTIVITIES  \\nPresident, Society of Women Engineers (SWE) , August 20 XX - present  \\nMember, Theta Tau ( Professional Engineering Fraternity ), September 20 XX - present', metadata={'source': './data/resume-sample-engineering.pdf', 'page': 0, 'county': 'San Francisco'})]"
      ]
     },
     "execution_count": 26,
     "metadata": {},
     "output_type": "execute_result"
    }
   ],
   "source": [
    "retriever_wo_filter.get_relevant_documents(\"where did sallie interned?\", k=1)"
   ]
  },
  {
   "cell_type": "markdown",
   "metadata": {},
   "source": [
    "# Parent Document Retriever w filter"
   ]
  },
  {
   "cell_type": "code",
   "execution_count": 27,
   "metadata": {},
   "outputs": [],
   "source": [
    "from typing import List, Dict, Optional\n",
    "from langchain.retrievers.parent_document_retriever import ParentDocumentRetriever\n",
    "from langchain.schema import Document\n",
    "from pydantic import Field\n",
    "\n",
    "def join_recursive_documents(documents: List[Document], start_index: int = 0) -> List[Document]:\n",
    "    \"\"\"\n",
    "    Join a list of documents that were split using RecursiveCharacterTextSplitter.\n",
    "    \"\"\"\n",
    "    joined_docs = []\n",
    "    current_doc = None\n",
    "    for doc in documents:\n",
    "        if current_doc is None or doc.metadata[\"start_index\"] != current_doc.metadata[\"start_index\"]:\n",
    "            if current_doc is not None:\n",
    "                joined_docs.append(current_doc)\n",
    "            current_doc = doc\n",
    "        else:\n",
    "            current_doc.page_content += doc.page_content\n",
    "    if current_doc is not None:\n",
    "        joined_docs.append(current_doc)\n",
    "    return joined_docs\n",
    "\n",
    "class FilteredParentDocumentRetriever(ParentDocumentRetriever):\n",
    "    filter: Optional[Dict] = Field(default=None, description=\"Filter to apply to the search results.\")\n",
    "\n",
    "    class Config:\n",
    "        arbitrary_types_allowed = True\n",
    "\n",
    "    def __init__(self, vectorstore, docstore, child_splitter, parent_splitter, filter: Optional[Dict] = None, **kwargs):\n",
    "        super().__init__(vectorstore=vectorstore, docstore=docstore, child_splitter=child_splitter, parent_splitter=parent_splitter, **kwargs)\n",
    "        self.filter = filter\n",
    "\n",
    "    def get_relevant_documents(self, query: str) -> List[Document]:\n",
    "        docs_and_scores = self.vectorstore.similarity_search_with_score(query)\n",
    "        docs = [doc for doc, _ in docs_and_scores]\n",
    "        if self.filter:\n",
    "            filtered_docs = [doc for doc in docs if all(doc.metadata.get(k) in v for k, v in self.filter.items())]\n",
    "            parent_docs = join_recursive_documents(filtered_docs)\n",
    "            return [self.docstore[doc.metadata[self.id_key]] for doc in parent_docs]\n",
    "        else:\n",
    "            parent_docs = join_recursive_documents(docs)\n",
    "            return [self.docstore[doc.metadata[self.id_key]] for doc in parent_docs]"
   ]
  },
  {
   "cell_type": "code",
   "execution_count": 29,
   "metadata": {},
   "outputs": [],
   "source": [
    "vectorstore_filter = Chroma(\n",
    "    collection_name=\"docs1\", embedding_function=embedding\n",
    ")"
   ]
  },
  {
   "cell_type": "code",
   "execution_count": 30,
   "metadata": {},
   "outputs": [],
   "source": [
    "fs_filter = LocalFileStore(\"./store_location_wo_filter\")\n",
    "store_filter = create_kv_docstore(fs_filter)\n",
    "retriever_filter = ParentDocumentRetriever(\n",
    "    vectorstore=vectorstore_filter,\n",
    "    docstore=store_filter,\n",
    "    child_splitter=child_splitter,\n",
    "    parent_splitter=parent_splitter\n",
    ")"
   ]
  },
  {
   "cell_type": "code",
   "execution_count": 31,
   "metadata": {},
   "outputs": [],
   "source": [
    "from langchain.vectorstores import Chroma\n",
    "\n",
    "filter={'county': 'San Francisco'}\n",
    "retriever = FilteredParentDocumentRetriever(vectorstore_filter, store_filter, child_splitter, parent_splitter, filter=filter)"
   ]
  },
  {
   "cell_type": "code",
   "execution_count": 32,
   "metadata": {},
   "outputs": [
    {
     "data": {
      "text/plain": [
       "[]"
      ]
     },
     "execution_count": 32,
     "metadata": {},
     "output_type": "execute_result"
    }
   ],
   "source": [
    "retriever.get_relevant_documents(\"where did sallie interned?\")"
   ]
  },
  {
   "cell_type": "code",
   "execution_count": null,
   "metadata": {},
   "outputs": [],
   "source": []
  }
 ],
 "metadata": {
  "kernelspec": {
   "display_name": "myenv",
   "language": "python",
   "name": "python3"
  },
  "language_info": {
   "codemirror_mode": {
    "name": "ipython",
    "version": 3
   },
   "file_extension": ".py",
   "mimetype": "text/x-python",
   "name": "python",
   "nbconvert_exporter": "python",
   "pygments_lexer": "ipython3",
   "version": "3.11.4"
  }
 },
 "nbformat": 4,
 "nbformat_minor": 2
}
